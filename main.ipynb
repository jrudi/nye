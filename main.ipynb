{
 "cells": [
  {
   "cell_type": "markdown",
   "metadata": {},
   "source": [
    "# Crawling German police press releases regarding NYE firworks incidents\n",
    "\n",
    "## Idee\n",
    "Jedes Jahr gibt es um den 31. Dezember hunderte durch Feuerwerkskörper verursachte Einsätze der Polizei und Rettungskräfte. Ich sammle alle Presseberichte, die die Polizeibehörden bei presseportal.de/blaulicht veröffentlichen, um sie dann zu aggregieren und auszuwerten.\n",
    "\n",
    "## Technik\n",
    "Zum crawlen Verwende ich Selenium und BeautifulSoup, um auch JavaScript basierte Seiten einfach zu parsen. "
   ]
  },
  {
   "cell_type": "code",
   "execution_count": 1,
   "metadata": {},
   "outputs": [],
   "source": [
    "from selenium import webdriver\n",
    "from selenium.webdriver.chrome.service import Service\n",
    "from selenium.webdriver.common.by import By\n",
    "from datetime import datetime\n",
    "import platform\n",
    "import time\n",
    "from bs4 import BeautifulSoup"
   ]
  },
  {
   "cell_type": "markdown",
   "metadata": {},
   "source": [
    "Der Crawler sucht auf der Website nach einem zu bestimmenden HTML Tag und liefert den Inhalt als String zurück. Um verschiedene Anti-Bot Maßnahmen zu umgehen, braucht man manchmal einen realistischen User-Agent und künstliche Wartezeiten."
   ]
  },
  {
   "cell_type": "code",
   "execution_count": 2,
   "metadata": {},
   "outputs": [],
   "source": [
    "def crawl(url, classname):\n",
    "    path = './chromedriver' if platform.system() == \"Darwin\" else './chromedriver.exe'\n",
    "        \n",
    "    service = Service(path)\n",
    "    options = webdriver.ChromeOptions()\n",
    "    options.add_argument('--headless')\n",
    "    options.add_argument('--window-size=1920,1080')\n",
    "    user_agent = 'Mozilla/5.0 (Macintosh; Intel Mac OS X 10_15_7) AppleWebKit/537.36 (KHTML, like Gecko) Chrome/116.0.0.0 Safari/537.36'\n",
    "    options.add_argument(f'user-agent={user_agent}')\n",
    "    driver = webdriver.Chrome(service=service, options=options)\n",
    "    try:\n",
    "        driver.get(url)\n",
    "        time.sleep(5)\n",
    "        content = driver.find_element(By.CLASS_NAME, classname)\n",
    "        text = content.get_attribute('innerHTML')\n",
    "        driver.quit()\n",
    "        return text\n",
    "    except Exception as e:\n",
    "        print(f\"Chrome Error: {str(e)}\")\n",
    "        error_file = open('error.html', 'w')\n",
    "        error_file.write(driver.find_element(By.TAG_NAME, 'html').get_attribute('innerHTML'))\n",
    "        error_file.close()\n",
    "        driver.quit()"
   ]
  },
  {
   "cell_type": "markdown",
   "metadata": {},
   "source": [
    "Ein Artikel besteht aus der ID, dem Veröffentlichungsdatum, der Behörde, dem Titel und dem Inhalt. Diese werden über die einzelnen HTML Tags und Klassen extrahiert und formatiert.\n",
    "\n",
    "Das fertige Objekt hat folgendes Format:\n",
    "\n",
    "    {\n",
    "        id: <ID>,\n",
    "        title: <Titel des Artikels>,\n",
    "        date: <Datum der Veröffentlichung>,\n",
    "        location: <Behörde>,\n",
    "        pol_id: <ID der Behörde (für spätere Zurordung)>,\n",
    "        content: <Inhalt des Artikels>\n",
    "    }"
   ]
  },
  {
   "cell_type": "code",
   "execution_count": 3,
   "metadata": {},
   "outputs": [],
   "source": [
    "def find_articles(text):\n",
    "        soup = BeautifulSoup(text, 'html.parser')\n",
    "        articles = soup.find_all('article', class_=\"news\")\n",
    "        ll = []\n",
    "        for article in articles:\n",
    "            id = article.get('data-label')\n",
    "            datestring = article.find('div',class_='date').text\n",
    "            date = datetime.strptime(datestring.replace(' – ', ' '),\"%d.%m.%Y %H:%M\")\n",
    "            pol = article.find('p',class_='customer')\n",
    "            pol_id = pol.find('a').get('data-url').split('/')[-1]\n",
    "            location = pol.text\n",
    "            title = article.find('h3').text\n",
    "            content = article.find_all('p')[-1].text\n",
    "            ll.append({'id': id,'date': date,'location': location,'behoerde': pol_id, 'title': title, 'content': content})\n",
    "        print(f\"found {len(ll)} articles\")\n",
    "        return ll"
   ]
  },
  {
   "cell_type": "markdown",
   "metadata": {},
   "source": [
    "Es gibt eine Übersichtsseite aller Behörden, die auf presseportal.de/blaulicht veröffentlichen. Sie sind hier nach Bundesland sortiert. Ich crawle sie alle, damit ich später die Behörden aus den Artikeln einem Bundesland zuordnen kann"
   ]
  },
  {
   "cell_type": "code",
   "execution_count": 4,
   "metadata": {},
   "outputs": [],
   "source": [
    "def find_police_ids(text):\n",
    "    soup = BeautifulSoup(text, 'html.parser')\n",
    "    sections = soup.find_all('div',class_='row')\n",
    "    results = []\n",
    "    for s in sections[2:]:\n",
    "        try:\n",
    "            bundesland = s.find('h3',class_='dienststellen-headline').text\n",
    "            elements = s.find_all('div',class_='col')\n",
    "            for element in elements:\n",
    "                name = element.find('a').text\n",
    "                id = element.find('a').get('href').split('/')[-1]\n",
    "                label = element.find('div').text\n",
    "                results.append({'id': id,'bundesland': bundesland,'label': label,'name': name})\n",
    "        except Exception as e :\n",
    "            print(e)\n",
    "            print(s)\n",
    "    print(f\"found {len(results)} police ids\")\n",
    "    return results\n"
   ]
  },
  {
   "cell_type": "markdown",
   "metadata": {},
   "source": [
    "Da immer 30 Artikel pro Seite angezeigt werden, muss man mehrmals crawlen, um ältere Meldungen zu erhalten. Die neusten 30 Artikel findet man auf der Seite https://presseportal.de/blaulicht/0 und die danach sind auf der Seite mit dem Suffix 30, 60, 90, usw. abrufbar."
   ]
  },
  {
   "cell_type": "code",
   "execution_count": 10,
   "metadata": {},
   "outputs": [],
   "source": [
    "\n",
    "raw_texts = []\n",
    "for n in range(10):\n",
    "    raw_texts.append(crawl(f'https://www.presseportal.de/blaulicht/{n*30}', 'storyliste-wrapper'))\n"
   ]
  },
  {
   "cell_type": "code",
   "execution_count": 11,
   "metadata": {},
   "outputs": [
    {
     "name": "stdout",
     "output_type": "stream",
     "text": [
      "found 30 articles\n",
      "found 30 articles\n",
      "found 30 articles\n",
      "found 30 articles\n",
      "found 30 articles\n",
      "found 30 articles\n",
      "found 30 articles\n",
      "found 30 articles\n",
      "found 30 articles\n",
      "found 30 articles\n"
     ]
    }
   ],
   "source": [
    "meldungen = []\n",
    "for text in raw_texts:\n",
    "    articles = find_articles(text)\n",
    "    meldungen.extend(articles)"
   ]
  },
  {
   "cell_type": "code",
   "execution_count": 12,
   "metadata": {},
   "outputs": [
    {
     "name": "stdout",
     "output_type": "stream",
     "text": [
      "found 522 police ids\n"
     ]
    }
   ],
   "source": [
    "text_polizei = crawl('https://www.presseportal.de/blaulicht/p_dienststellen.htx', 'dienststellen-container')\n",
    "police_ids = find_police_ids(text_polizei)"
   ]
  },
  {
   "cell_type": "markdown",
   "metadata": {},
   "source": [
    "Die Behörden ID eines Artikels wird mit der Liste aller Behörden abgeglichen, um relevante Informationen wie das Bundesland dem Artikel anzuhängen"
   ]
  },
  {
   "cell_type": "code",
   "execution_count": 13,
   "metadata": {},
   "outputs": [],
   "source": [
    "def get_police(id,police_ids):\n",
    "    for police in police_ids:\n",
    "        if id in police['id']:\n",
    "            return police\n",
    "    return None"
   ]
  },
  {
   "cell_type": "markdown",
   "metadata": {},
   "source": [
    "Mittels einer Wortliste wird nach relevanten Artikeln gesucht."
   ]
  },
  {
   "cell_type": "code",
   "execution_count": 14,
   "metadata": {},
   "outputs": [
    {
     "name": "stdout",
     "output_type": "stream",
     "text": [
      "{'id': '5682466', 'date': datetime.datetime(2023, 12, 31, 11, 19), 'location': 'Bundespolizeiinspektion Ebersbach', 'behoerde': {'id': '74161', 'bundesland': 'Sachsen', 'label': 'Bundespolizeiinspektion Ebersbach', 'name': 'Ebersbach '}, 'title': 'BPOLI EBB: Feuerwerk mit 420 Gramm Explosivstoff beschlagnahmt', 'content': 'Zittau (ots) - 29.12.2023 / 22:30 Uhr / Zittau Ein am 29. Dezember 2023 bei Zittau aus Polen einreisender Mann wurde durch die Bundespolizei mit einer Feuerwerksbatterie gestoppt, die es in sich hat. Der 35-jährige Vietnamese wurde um 22:30 Uhr in der Grenzkontrollstelle auf der B 178n kontrolliert. Er hatte vermutlich in der Tschechischen Republik Pyrotechnik der Kategorie F4 gekauft. Zwar handelt es sich bei diesem ...'}\n",
      "{'id': '5682462', 'date': datetime.datetime(2023, 12, 31, 11, 7), 'location': 'Polizeiinspektion Osnabrück', 'behoerde': {'id': '104236', 'bundesland': 'Niedersachsen', 'label': 'Polizeiinspektion', 'name': 'Osnabrück '}, 'title': 'POL-OS: Osnabrück/Innenstadt: Aus Fenster geworfen - Polizistinnen retteten sich vor explodierenden Feuerwerkskörpern', 'content': 'Osnabrück (ots) - In der Nacht zu Samstag retteten sich zwei Diensthundeführerinnen der Polizei in der Johannisstraße vor explodierenden Feuerwerkskörpern. Ein Bewohner hatte die Böller gegen 3.25 Uhr aus einem Fenster auf die Beamtinnen geworfen, während diese mit ihren Vierbeinen die Straße nach ...'}\n",
      "{'id': '5682435', 'date': datetime.datetime(2023, 12, 31, 10, 0), 'location': 'Polizei Coesfeld', 'behoerde': {'id': '6006', 'bundesland': 'Nordrhein-Westfalen', 'label': 'Kreispolizeibehörde', 'name': 'Coesfeld '}, 'title': 'POL-COE: Dülmen, Friedrich-Ruin-Straße, Beleidigungen und Böllerwurf gegen Polizisten', 'content': 'Coesfeld (ots) - Das Zünden von Feuerwerkskörpern vor Silvester ist verboten. Die Polizei rückte nach Weihnachten deshalb mehrfach wegen diverser \"Böllerwürfe\" aus. So auch am 29.12.2023, gegen 22:49 Uhr. Im Bereich des Annette-von-Droste-Hülshoff-Gymnasiums fiel ihnen eine Gruppe Jugendlicher auf. Aus der ...'}\n",
      "{'id': '5682398', 'date': datetime.datetime(2023, 12, 31, 9, 0), 'location': 'Landespolizeiinspektion Gera', 'behoerde': {'id': '126720', 'bundesland': 'Thüringen', 'label': 'Polizei', 'name': 'Gera '}, 'title': 'LPI-G: Briefkasten gesprengt / Zeugenaufruf', 'content': 'Weida (ots) - Unbekannte Täter warfen am Samstagabend zwischen 17.30 Uhr und 19.30 Uhr in Weida, Ernst-Thälmann-Straße/Ecke Straße der Frohen Zukunft, einen Silvesterböller in einen Briefkasten der Deutschen Post. Durch die Detonation des Böllers wurde der Briefkasten vollständig zerstört. Es entstand erheblicher Sachschaden. Die PI Greiz hat die Ermittlungen aufgenommen und bittet um sachdienliche Hinweise. Tel. ...'}\n",
      "{'id': '5682327', 'date': datetime.datetime(2023, 12, 31, 7, 9), 'location': 'Polizeidirektion Neuwied/Rhein', 'behoerde': {'id': '117709', 'bundesland': 'Rheinland-Pfalz', 'label': 'Polizeidirektion', 'name': 'Neuwied/Rhein '}, 'title': 'POL-PDNR: Betzdorf - Personenkontrollen nach Zündung von Feuerwerkskörpern', 'content': 'Betzdorf (ots) - In der Nacht vom 30. auf den 31.12.23 wurden von der Polizei Betzdorf immer wieder Personenkontrollen an wechselnden Örtlichkeiten im Stadtgebiet von Betzdorf durchgeführt. Die Kontrollen erfolgten meist nach Hinweisen von Anwohnern über Jugendgruppen die Feuerwerkskörper zündeten. Aus einer Gruppe heraus wurde das Dienstgebäude der Polizei von ...'}\n",
      "{'id': '5682253', 'date': datetime.datetime(2023, 12, 30, 14, 50), 'location': 'Landespolizeiinspektion Jena', 'behoerde': {'id': '126722', 'bundesland': 'Thüringen', 'label': 'Polizei', 'name': 'Jena '}, 'title': 'LPI-J: Polizeieinsatz in Weimar gegen illegales Abbrennen von Pyrotechnik', 'content': 'Weimar (ots) - Am gestrigen Abend führte die Polizeiinspektion (PI) Weimar einen Einsatz auf dem Goetheplatz durch, um das unkontrollierte Abbrennen von pyrotechnischen Erzeugnissen durch mehrere Kleingruppen Jugendlicher zu unterbinden. Nach Hinweisen aus der Bevölkerung, dass sich auf dem Goetheplatz mehrere Personen befanden, die Silvesterfeuerwerk abbrannten und ...'}\n",
      "{'id': '5682230', 'date': datetime.datetime(2023, 12, 30, 12, 49), 'location': 'Landespolizeiinspektion Nordhausen', 'behoerde': {'id': '126723', 'bundesland': 'Thüringen', 'label': 'Polizei', 'name': 'Nordhausen '}, 'title': 'LPI-NDH: Schwer verletzt durch Knaller', 'content': 'Ebeleben (ots) - Ein 27-Jähriger zündete selbstgebastelte bzw. verbotene Feuerwerkskörper. Einer davon zündete nicht, sodass der junge Mann diesen näher in Augenschein nahm. Der Knaller detonierte plötzlich und verletzte ihn schwer im Gesicht, sodass ein Rettungshubschrauber zum Einsatz kam, um den Verletzten in ein Klinikum zu fliegen. Rückfragen bitte an: Thüringer Polizei Landespolizeiinspektion Nordhausen ...'}\n",
      "{'id': '5682222', 'date': datetime.datetime(2023, 12, 30, 12, 22), 'location': 'Polizeipräsidium Ulm', 'behoerde': {'id': '110979', 'bundesland': 'Baden-Württemberg', 'label': 'Polizeipräsidium', 'name': 'Ulm '}, 'title': 'POL-UL: (GP) Uhingen - Jugendliche verursachen durch Böllerabschuss einen Brand / Silvesterböller hat eine brennende Hecke und ein brennendes…', 'content': 'Ulm (ots) - Gegen 16.00 Uhr fuhren am Freitag Feuerwehr und Rettungskräfte in die Sachsenstraße in Uhingen. Von dort wurde der Polizei zunächst ein Fahrzeugbrand mitgeteilt. Im Laufe der Ermittlungen konnte in Erfahrung gebracht werden, dass mehrere Jugendliche dort Böller in eine Hecke geworfen hatten. Diese ...'}\n",
      "{'id': '5682184', 'date': datetime.datetime(2023, 12, 30, 9, 48), 'location': 'Polizeiinspektion Leer/Emden', 'behoerde': {'id': '104235', 'bundesland': 'Niedersachsen', 'label': 'Polizeiinspektion', 'name': 'Leer/Emden '}, 'title': 'POL-LER: Pressemeldung der Polizeiinspektion Leer/Emden für Samstag, 30.12.2023', 'content': 'Leer (ots) - ++Überfall auf E-Scooter-Fahrer++Zünden sog. Polenböller++Mehrere Fahrten unter Alkoholbeeinflussung++Verkehrsunfall mit verletzter Radfahrerin++ Überfall auf E-Scooter-Fahrer -Zeugenaufruf- Leer - Gegen 22:20 Uhr des Freitages wurde auf dem Moorweg Höhe Bahndamm ein 34-jähriger Mann aus Leer überfallen. Dieser war mit einem E-Scooter in Richtung ...'}\n"
     ]
    }
   ],
   "source": [
    "word_list = ['feuerwerkskörper', 'knaller', 'böller', 'boeller', 'rakete', 'feuerwerk','explosion','detonation']\n",
    "positive_meldungen = []\n",
    "\n",
    "for meldung in meldungen:\n",
    "    for word in word_list:\n",
    "        if word in meldung['content'].lower():\n",
    "            if meldung not in positive_meldungen:\n",
    "                positive_meldungen.append(meldung)\n",
    "                meldung['behoerde'] = get_police(meldung['behoerde'],police_ids)\n",
    "                print(meldung)"
   ]
  }
 ],
 "metadata": {
  "kernelspec": {
   "display_name": "Python 3",
   "language": "python",
   "name": "python3"
  },
  "language_info": {
   "codemirror_mode": {
    "name": "ipython",
    "version": 3
   },
   "file_extension": ".py",
   "mimetype": "text/x-python",
   "name": "python",
   "nbconvert_exporter": "python",
   "pygments_lexer": "ipython3",
   "version": "3.8.9"
  },
  "orig_nbformat": 4
 },
 "nbformat": 4,
 "nbformat_minor": 2
}
